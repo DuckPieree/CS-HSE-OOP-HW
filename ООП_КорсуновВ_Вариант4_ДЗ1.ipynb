{
 "cells": [
  {
   "cell_type": "code",
   "execution_count": 11,
   "id": "285f778f",
   "metadata": {
    "cellId": "n0tuksrcmpmyavejccjdka"
   },
   "outputs": [],
   "source": [
    "from math import cos, sin, pi\n",
    "\n",
    "class Car:\n",
    "    def __init__(self):\n",
    "        \"\"\"\n",
    "        Инициализация автомобиля.\n",
    "        Устанавливаются начальные значения для скорости, угла и координат.\n",
    "        Также создается пустой список для команд управления.\n",
    "        \"\"\"\n",
    "        self.speed = 0\n",
    "        self.angle = 0\n",
    "        self.x = 0\n",
    "        self.y = 0\n",
    "        self.commands = []\n",
    "        \n",
    "    def move(self, time):\n",
    "        \"\"\"\n",
    "        Перемещение автомобиля.\n",
    "        Скорость и угол используются для вычисления смещения автомобиля по осям x и y\n",
    "        \"\"\"\n",
    "        self.x += self.speed * time * cos(self.angle)\n",
    "        self.y += self.speed * time * sin(self.angle)\n",
    "\n",
    "    def set_speed(self, speed):\n",
    "        \"\"\"\n",
    "        Обновление скорости автомобиля.\n",
    "        \"\"\"\n",
    "        self.speed = speed\n",
    "        \n",
    "    def set_angle(self, angle):\n",
    "        \"\"\"\n",
    "        Обновление угла движения автомобиля.\n",
    "        \"\"\"\n",
    "        self.angle = angle\n",
    "        \n",
    "    def add_command(self, time, speed=None, angle=None):\n",
    "        \"\"\"\n",
    "        Добавление новой команды в список команд. \n",
    "        Команды могут включать время выполнения, скорость и угол движения.\n",
    "        После добавления новой команды список команд сортируется по времени.\n",
    "        \"\"\"\n",
    "        self.commands.append({\"time\": time, \"speed\": speed, \"angle\": angle})\n",
    "        self.commands.sort(key=lambda x: x['time'])\n",
    "\n",
    "    def execute_commands(self):\n",
    "        \"\"\"\n",
    "        Запускает выполнение команд.\n",
    "        Команды выполняются в порядке в котором они находятся в списке (после сортировки по времени).\n",
    "        После выполнения всех команд функция возвращает текущие координаты автомобиля.\n",
    "        \"\"\"\n",
    "        current_time = 0\n",
    "        for command in self.commands:\n",
    "            if command['speed'] is not None:\n",
    "                self.set_speed(command['speed'])\n",
    "            if command['angle'] is not None:\n",
    "                self.set_angle(command['angle'])\n",
    "            time_delta = command['time'] - current_time\n",
    "            self.move(time_delta)\n",
    "            current_time = command['time']\n",
    "        return self.x, self.y"
   ]
  },
  {
   "cell_type": "code",
   "execution_count": 12,
   "id": "8b19d1e2",
   "metadata": {
    "cellId": "bgb672ar4mecgo646tpuam"
   },
   "outputs": [
    {
     "name": "stdout",
     "output_type": "stream",
     "text": [
      "(3.061616997868383e-15, 50.0)\n"
     ]
    }
   ],
   "source": [
    "# Пример 1: Создаем автомобиль и задаем ему последовательность движений\n",
    "my_car = Car()\n",
    "my_car.add_command(0, speed=10)  # начинаем движение с скоростью 10\n",
    "my_car.add_command(5, angle=pi/2)  # на 5-й секунде поворачиваем на 90 градусов\n",
    "my_car.add_command(7, speed=0)  # на 7-й секунде останавливаемся\n",
    "print(my_car.execute_commands())  # выводим координаты, где остановился автомобиль"
   ]
  },
  {
   "cell_type": "code",
   "execution_count": 14,
   "id": "4216fe6f",
   "metadata": {
    "cellId": "342wr5wsqskreqspven0ap"
   },
   "outputs": [
    {
     "name": "stdout",
     "output_type": "stream",
     "text": [
      "(-15.0, 1.83697019872103e-15)\n",
      "(-19.999999999999996, 34.0)\n"
     ]
    }
   ],
   "source": [
    "# Пример 2: Управляем несколькими автомобилями\n",
    "car1 = Car()\n",
    "car1.add_command(0, speed=5)\n",
    "car1.add_command(3, angle=pi)\n",
    "car1.add_command(6, speed=0)\n",
    "\n",
    "car2 = Car()\n",
    "car2.add_command(0, speed=7)\n",
    "car2.add_command(2, angle=pi/2)\n",
    "car2.add_command(4, speed=10)\n",
    "car2.add_command(6, angle=pi)\n",
    "car2.add_command(7, speed=0)\n",
    "\n",
    "print(car1.execute_commands())  \n",
    "print(car2.execute_commands()) "
   ]
  }
 ],
 "metadata": {
  "language_info": {
   "codemirror_mode": {
    "name": "ipython",
    "version": 3
   },
   "file_extension": ".py",
   "mimetype": "text/x-python",
   "name": "python",
   "nbconvert_exporter": "python",
   "pygments_lexer": "ipython3",
   "version": "3.7.7"
  },
  "notebookId": "08ef85cc-fd1a-46f0-9717-612c97a32a93",
  "notebookPath": "[TARIFF VERTICAL] tariff classes test/Untitled.ipynb"
 },
 "nbformat": 4,
 "nbformat_minor": 5
}
