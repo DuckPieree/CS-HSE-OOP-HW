{
 "cells": [
  {
   "cell_type": "code",
   "execution_count": 43,
   "id": "d7995b99",
   "metadata": {
    "cellId": "qarmboodxih32qijox2bv"
   },
   "outputs": [],
   "source": [
    "from math import cos, sin, pi"
   ]
  },
  {
   "cell_type": "code",
   "execution_count": 44,
   "id": "abb55b10",
   "metadata": {
    "cellId": "6xktgul8o92x22fpn8gwuf"
   },
   "outputs": [],
   "source": [
    "class Car:\n",
    "    def __init__(self):\n",
    "        \"\"\"\n",
    "        Инициализация автомобиля.\n",
    "        Устанавливаются начальные значения для скорости, угла и координат.\n",
    "        Также создается пустой список для команд управления.\n",
    "        \"\"\"\n",
    "        self.speed = 0\n",
    "        self.angle = 0\n",
    "        self.x = 0\n",
    "        self.y = 0\n",
    "        self.commands = []\n",
    "    \n",
    "    def move(self, time):\n",
    "        \"\"\"\n",
    "        Перемещение автомобиля.\n",
    "        Скорость и угол используются для вычисления смещения автомобиля по осям x и y\n",
    "        \"\"\"\n",
    "        self.x += self.speed * time * cos(self.angle)\n",
    "        self.y += self.speed * time * sin(self.angle)\n",
    "\n",
    "    def set_speed(self, speed):\n",
    "        \"\"\"\n",
    "        Обновление скорости автомобиля.\n",
    "        \"\"\"\n",
    "        self.speed = speed\n",
    "        \n",
    "    def set_angle(self, angle):\n",
    "        \"\"\"\n",
    "        Обновление угла движения автомобиля.\n",
    "        \"\"\"\n",
    "        self.angle = angle * pi / 180  # Преобразование угла в радианы для вычислений\n",
    "    \n",
    "    def add_command(self, time, speed=None, angle=None):\n",
    "        \"\"\"\n",
    "        Добавление новой команды в список команд. \n",
    "        Команды могут включать время выполнения, скорость и угол движения.\n",
    "        После добавления новой команды список команд сортируется по времени.\n",
    "        \"\"\"        \n",
    "        if self.commands and time < self.commands[-1][\"time\"]:\n",
    "            raise ValueError(\"Новая команда не можт быть добавлена, так как она находится после последнего действия в последовательности\")\n",
    "\n",
    "        self.commands.append({\"time\": time, \"speed\": speed, \"angle\": angle})\n",
    "        self.commands.sort(key=lambda x: x['time'])  # Сортировка для надежности, но теперь она не требуется\n",
    "\n",
    "    def validate_commands_sequence(self):\n",
    "        \"\"\"\n",
    "        Валидируем корректность последовательности комманд по времени.\n",
    "        \"\"\"\n",
    "        for i in range(len(self.commands) - 1):\n",
    "            if self.commands[i]['time'] > self.commands[i+1]['time']:\n",
    "                return False\n",
    "        return True\n",
    "\n",
    "    def get_coordinates_at_time(self, target_time):\n",
    "        \"\"\"\n",
    "        Вычисляем параметры машины в произвольный момент времени.\n",
    "        \"\"\"\n",
    "        current_time, last_speed, last_angle = 0, self.speed, self.angle\n",
    "\n",
    "        for command in self.commands:\n",
    "            if target_time < command['time']:\n",
    "                break\n",
    "\n",
    "            time_delta = command['time'] - current_time\n",
    "            self.move(time_delta)\n",
    "\n",
    "            if command['speed'] is not None:\n",
    "                self.set_speed(command['speed'])\n",
    "            if command['angle'] is not None:\n",
    "                self.set_angle(command['angle'])\n",
    "            \n",
    "            current_time = command['time']\n",
    "            last_speed, last_angle = self.speed, self.angle\n",
    "\n",
    "        # Завершить оставшееся движение до target_time\n",
    "        time_delta = target_time - current_time\n",
    "        if time_delta > 0:\n",
    "            self.x += last_speed * time_delta * cos(last_angle)\n",
    "            self.y += last_speed * time_delta * sin(last_angle)\n",
    "        \n",
    "        return self.x, self.y\n",
    "\n",
    "    def execute_commands(self):\n",
    "        \"\"\"\n",
    "        Запускает выполнение команд.\n",
    "        Команды выполняются в порядке в котором они находятся в списке (после сортировки по времени).\n",
    "        После выполнения всех команд функция возвращает текущие координаты автомобиля.\n",
    "        \"\"\"\n",
    "        return self.get_coordinates_at_time(self.commands[-1]['time']) if self.commands else (self.x, self.y)"
   ]
  },
  {
   "cell_type": "code",
   "execution_count": 45,
   "id": "3fb51f2d",
   "metadata": {
    "cellId": "mwlp0luizjmbzba11p3u"
   },
   "outputs": [
    {
     "name": "stdout",
     "output_type": "stream",
     "text": [
      "(69.99248433718964, 0.5482426718408858)\n"
     ]
    }
   ],
   "source": [
    "# Пример 1: Создаем автомобиль и задаем ему последовательность движений\n",
    "my_car = Car()\n",
    "my_car.add_command(0, speed=10)  # начинаем движение с скоростью 10\n",
    "my_car.add_command(5, angle=pi/2)  # на 5-й секунде поворачиваем на 90 градусов\n",
    "my_car.add_command(7, speed=0)  # на 7-й секунде останавливаемся\n",
    "print(my_car.execute_commands())  # выводим координаты, где остановился автомобиль"
   ]
  },
  {
   "cell_type": "code",
   "execution_count": 46,
   "id": "ab06b92b",
   "metadata": {
    "cellId": "bgb672ar4mecgo646tpuam"
   },
   "outputs": [],
   "source": [
    "# Пример 2: Создаем автомобиль и задаем ему последовательность движений\n",
    "car = Car()\n",
    "car.add_command(0, speed=10)      \n",
    "car.add_command(5, speed=20)      \n",
    "car.add_command(10, angle=90)    \n",
    "\n",
    "assert car.validate_commands_sequence() == True"
   ]
  },
  {
   "cell_type": "code",
   "execution_count": 47,
   "id": "d4ee9b6e",
   "metadata": {
    "cellId": "3yi45lg7hxfse43oaggi6h"
   },
   "outputs": [
    {
     "name": "stdout",
     "output_type": "stream",
     "text": [
      "Новая команда не можт быть добавлена, так как она находится после последнего действия в последовательности\n"
     ]
    }
   ],
   "source": [
    "try:\n",
    "    car.add_command(2, angle=180)  # Добавляем команду с временем раньше последней\n",
    "except ValueError as errr:\n",
    "    print(errr)"
   ]
  },
  {
   "cell_type": "code",
   "execution_count": 48,
   "id": "93c8e22b",
   "metadata": {
    "cellId": "ydqap2mno7qaf6ngcr48iq"
   },
   "outputs": [],
   "source": [
    "assert car.validate_commands_sequence() == True"
   ]
  },
  {
   "cell_type": "code",
   "execution_count": 49,
   "id": "686b4382",
   "metadata": {
    "cellId": "yy294gzf7i4f1zcqztvmy"
   },
   "outputs": [
    {
     "name": "stdout",
     "output_type": "stream",
     "text": [
      "(29.977457247957958, 0.8220549772318428)\n",
      "(57.972194871861014, 1.4800491936174012)\n"
     ]
    }
   ],
   "source": [
    "# Пример 3: Управляем несколькими автомобилями\n",
    "car1 = Car()\n",
    "car1.add_command(0, speed=5)\n",
    "car1.add_command(3, angle=pi)\n",
    "car1.add_command(6, speed=0)\n",
    "\n",
    "car2 = Car()\n",
    "car2.add_command(0, speed=7)\n",
    "car2.add_command(2, angle=pi/2)\n",
    "car2.add_command(4, speed=10)\n",
    "car2.add_command(6, angle=pi)\n",
    "car2.add_command(7, speed=0)\n",
    "\n",
    "print(car1.execute_commands())  \n",
    "print(car2.execute_commands()) "
   ]
  },
  {
   "cell_type": "code",
   "execution_count": 50,
   "id": "f78d42f1",
   "metadata": {
    "cellId": "ry27fnypjnlz1v94pggye"
   },
   "outputs": [
    {
     "name": "stdout",
     "output_type": "stream",
     "text": [
      "Координаты (x, y) на 3-й секунде: (30.0, 0.0)\n",
      "Координаты (x, y) на 6-й секунде: (80.0, 0.0)\n",
      "Координаты (x, y) на 10-й секунде: (80.0, 0.0)\n"
     ]
    }
   ],
   "source": [
    "#Пример 4: Достаем параметры в произвольное время\n",
    "car = Car()\n",
    "car.add_command(0, speed=10)  \n",
    "car.add_command(5, speed=0)  \n",
    "\n",
    "# Произвольное время до остановки\n",
    "x_before_stop, y_before_stop = car.get_coordinates_at_time(3)\n",
    "print(f\"Координаты (x, y) на 3-й секунде: ({x_before_stop}, {y_before_stop})\")\n",
    "\n",
    "# Произвольное время после остановки на 6 секунде\n",
    "x_after1_stop, y_after1_stop = car.get_coordinates_at_time(6)\n",
    "print(f\"Координаты (x, y) на 6-й секунде: ({x_after1_stop}, {y_after1_stop})\")\n",
    "\n",
    "# Произвольное время после остановки на 10 секунде (не длжно измениться)\n",
    "x_after2_stop, y_after2_stop = car.get_coordinates_at_time(10)\n",
    "print(f\"Координаты (x, y) на 10-й секунде: ({x_after_stop}, {y_after_stop})\")"
   ]
  },
  {
   "cell_type": "code",
   "execution_count": 51,
   "id": "8ae88928",
   "metadata": {
    "cellId": "344v1j46c4q8h5x0cixtgk"
   },
   "outputs": [
    {
     "name": "stdout",
     "output_type": "stream",
     "text": [
      "Конечные координаты (x, y): (75.0, 75.0)\n"
     ]
    }
   ],
   "source": [
    "car = Car()\n",
    "car.add_command(0, speed=15)  \n",
    "car.add_command(5, angle=90)\n",
    "car.add_command(10, speed=0) \n",
    "\n",
    "final_x, final_y = car.execute_commands()\n",
    "print(f\"Конечные координаты (x, y): ({final_x}, {final_y})\")\n",
    "# Первые 5 секунд на север: x = 0 (cos(0) * 0), y = 15 * 5 (sin(0) * 15 * 5)\n",
    "# Следующие 5 секунд на восток: x = 0 + 15 * 5 (cos(pi/2) * 15 * 5)\n",
    "# Конечные координаты x = 75, y = 75"
   ]
  }
 ],
 "metadata": {
  "language_info": {
   "codemirror_mode": {
    "name": "ipython",
    "version": 3
   },
   "file_extension": ".py",
   "mimetype": "text/x-python",
   "name": "python",
   "nbconvert_exporter": "python",
   "pygments_lexer": "ipython3",
   "version": "3.7.7"
  },
  "notebookId": "08ef85cc-fd1a-46f0-9717-612c97a32a93",
  "notebookPath": "OOP/ООП_КорсуновВ_Вариант4_ДЗ1 (1).ipynb"
 },
 "nbformat": 4,
 "nbformat_minor": 5
}
